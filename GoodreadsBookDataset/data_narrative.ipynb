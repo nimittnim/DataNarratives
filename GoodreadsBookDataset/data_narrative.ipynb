{
 "cells": [
  {
   "cell_type": "code",
   "execution_count": 114,
   "metadata": {},
   "outputs": [],
   "source": [
    "#importing the libraries used\n",
    "import pandas as pd\n",
    "import matplotlib.pyplot as plt\n",
    "%matplotlib inline\n",
    "import numpy as np"
   ]
  },
  {
   "cell_type": "code",
   "execution_count": 115,
   "metadata": {},
   "outputs": [],
   "source": [
    "#reading the dataset\n",
    "book_tags=pd.read_csv(\"/Users/nimitt/Documents/ImpLibrs/book_tags.csv\")\n",
    "books=pd.read_csv(\"/Users/nimitt/Documents/ImpLibrs/books.csv\")\n",
    "ratings=pd.read_csv(\"/Users/nimitt/Documents/ImpLibrs/ratings.csv\")\n",
    "tags=pd.read_csv(\"/Users/nimitt/Documents/ImpLibrs/tags.csv\")\n",
    "to_read=pd.read_csv(\"/Users/nimitt/Documents/ImpLibrs/to_read.csv\")"
   ]
  },
  {
   "cell_type": "code",
   "execution_count": 116,
   "metadata": {},
   "outputs": [
    {
     "name": "stdout",
     "output_type": "stream",
     "text": [
      "Number of ratings:\t5976479\n",
      "Number of Users :\t53424\n"
     ]
    }
   ],
   "source": [
    "#Counting Number of ratings\n",
    "print(f\"Number of ratings:\\t{len(ratings)}\")\n",
    "print(f\"Number of Users :\\t{len(ratings['user_id'].unique())}\")"
   ]
  },
  {
   "cell_type": "code",
   "execution_count": 134,
   "metadata": {},
   "outputs": [
    {
     "name": "stdout",
     "output_type": "stream",
     "text": [
      "34252 : number of tags\n",
      "999912 : number of user-tag-book combinations\n"
     ]
    }
   ],
   "source": [
    "#Counting number of tags\n",
    "print(len(tags),\": number of tags\")\n",
    "print(len(book_tags),\": number of user-tag-book combinations\")"
   ]
  },
  {
   "cell_type": "code",
   "execution_count": 117,
   "metadata": {},
   "outputs": [
    {
     "name": "stdout",
     "output_type": "stream",
     "text": [
      "count    5.976479e+06\n",
      "mean     3.919866e+00\n",
      "std      9.910868e-01\n",
      "min      1.000000e+00\n",
      "25%      3.000000e+00\n",
      "50%      4.000000e+00\n",
      "75%      5.000000e+00\n",
      "max      5.000000e+00\n",
      "Name: rating, dtype: float64\n"
     ]
    },
    {
     "data": {
      "text/plain": [
       "<AxesSubplot: ylabel='rating'>"
      ]
     },
     "execution_count": 117,
     "metadata": {},
     "output_type": "execute_result"
    },
    {
     "data": {
      "image/png": "[encoded data removed]",
      "text/plain": [
       "<Figure size 640x480 with 1 Axes>"
      ]
     },
     "metadata": {},
     "output_type": "display_data"
    }
   ],
   "source": [
    "#Finding the average rating\n",
    "print(ratings['rating'].describe())\n",
    "ratings['rating'].value_counts().plot(kind='pie')"
   ]
  },
  {
   "cell_type": "code",
   "execution_count": 118,
   "metadata": {},
   "outputs": [
    {
     "data": {
      "text/plain": [
       "count    53424.000000\n",
       "mean       111.868804\n",
       "std         26.071224\n",
       "min         19.000000\n",
       "25%         96.000000\n",
       "50%        111.000000\n",
       "75%        128.000000\n",
       "max        200.000000\n",
       "Name: user_id, dtype: float64"
      ]
     },
     "execution_count": 118,
     "metadata": {},
     "output_type": "execute_result"
    }
   ],
   "source": [
    "#Calculating Number of ratings per user\n",
    "ratings_per_user=ratings['user_id'].value_counts().describe()\n",
    "ratings_per_user"
   ]
  },
  {
   "cell_type": "code",
   "execution_count": null,
   "metadata": {},
   "outputs": [],
   "source": [
    "#Creating histogram to plot Yearwise number of publications\n",
    "plt.hist(books['original_publication_year'].where(books['original_publication_year']>1800),bins=30)\n",
    "plt.xlabel('Year')\n",
    "plt.ylabel('Number of books published')\n",
    "plt.show()"
   ]
  },
  {
   "cell_type": "code",
   "execution_count": null,
   "metadata": {},
   "outputs": [],
   "source": [
    "#Checking the year with most number of books published\n",
    "most_books_year=pd.DataFrame(books['original_publication_year'].value_counts())\n",
    "most_books_year.rename(columns={'original_publication_year':'Number of books'},inplace=True)\n",
    "most_books_year=most_books_year.head(20)\n",
    "print(most_books_year.head(10))\n",
    "plt.bar(most_books_year.index,most_books_year['Number of books'])\n",
    "plt.xlabel('Year')\n",
    "plt.ylabel('Number of books')"
   ]
  },
  {
   "cell_type": "code",
   "execution_count": null,
   "metadata": {},
   "outputs": [],
   "source": [
    "#finding the most marked books\n",
    "most_marked_books=pd.DataFrame(to_read['book_id'].value_counts().head(200))\n",
    "most_marked_books.rename(columns={'book_id':'Number of Users marked'},inplace=True)\n",
    "most_marked_books['book_id']=most_marked_books.index\n",
    "most_marked_books.head(10)"
   ]
  },
  {
   "cell_type": "code",
   "execution_count": null,
   "metadata": {},
   "outputs": [],
   "source": [
    "#Calculating the how many books has each user marked to read\n",
    "to_read['user_id'].value_counts().describe()"
   ]
  },
  {
   "cell_type": "code",
   "execution_count": null,
   "metadata": {},
   "outputs": [],
   "source": [
    "#Calculating favorite books\n",
    "cond=np.logical_or(ratings['rating']==4,ratings['rating']==5)\n",
    "number_of_ratings=pd.DataFrame(ratings['book_id'].where(cond).value_counts())\n",
    "number_of_ratings.rename(columns={'book_id':'Number of 4 or 5 ratings'},inplace=True)\n",
    "print(number_of_ratings)\n",
    "plt.scatter(number_of_ratings.index,number_of_ratings[\"Number of 4 or 5 ratings\"],s=0.1)\n",
    "plt.xlabel('book_id')\n",
    "plt.ylabel('Number of 4 or 5 Ratings')"
   ]
  },
  {
   "cell_type": "code",
   "execution_count": null,
   "metadata": {},
   "outputs": [],
   "source": [
    "#average rating of each book\n",
    "group=ratings.groupby('book_id')['rating'].mean()\n",
    "group.sort_values(ascending=False).head(50)\n",
    "group.sort_values()\n"
   ]
  },
  {
   "cell_type": "code",
   "execution_count": null,
   "metadata": {},
   "outputs": [],
   "source": [
    "#Finding the most popular tags\n",
    "book_tags_1=book_tags.merge(tags,on='tag_id')\n",
    "book_tags_1=book_tags_1.merge(books[['goodreads_book_id','title']],on='goodreads_book_id')\n",
    "book_tags_1.loc[ book_tags_1['count'] < 0, 'count'] = 0\n",
    "print(book_tags_1)\n",
    "print(book_tags_1['count'].describe())\n",
    "book_tags_1['tag_name'].value_counts().head(20)"
   ]
  },
  {
   "cell_type": "code",
   "execution_count": null,
   "metadata": {},
   "outputs": [],
   "source": [
    "#Number of tags given by each user to books\n",
    "book_tags_1['goodreads_book_id'].value_counts().describe()"
   ]
  },
  {
   "cell_type": "code",
   "execution_count": null,
   "metadata": {},
   "outputs": [],
   "source": [
    "books"
   ]
  },
  {
   "cell_type": "code",
   "execution_count": null,
   "metadata": {},
   "outputs": [],
   "source": [
    "\n",
    "#counting number of books each year\n",
    "books['original_publication_year'].value_counts()"
   ]
  },
  {
   "cell_type": "code",
   "execution_count": null,
   "metadata": {},
   "outputs": [],
   "source": [
    "#finding the most profolic authors\n",
    "books_authors=pd.DataFrame(books['authors'].value_counts())\n",
    "books_authors=books_authors.rename(columns = {'authors':'#publications'})\n",
    "books_authors.head(10)"
   ]
  },
  {
   "cell_type": "code",
   "execution_count": null,
   "metadata": {},
   "outputs": [],
   "source": [
    "#plotting rating vs year\n",
    "cond1=books['original_publication_year']>1800\n",
    "plt.scatter(books['original_publication_year'].where(cond1),books['ratings_count'])\n",
    "plt.xlabel('Year of Publication of Book')\n",
    "plt.ylabel('Number of Ratings')\n"
   ]
  }
 ],
 "metadata": {
  "kernelspec": {
   "display_name": "Python 3",
   "language": "python",
   "name": "python3"
  },
  "language_info": {
   "codemirror_mode": {
    "name": "ipython",
    "version": 3
   },
   "file_extension": ".py",
   "mimetype": "text/x-python",
   "name": "python",
   "nbconvert_exporter": "python",
   "pygments_lexer": "ipython3",
   "version": "3.11.1 (v3.11.1:a7a450f84a, Dec  6 2022, 15:24:06) [Clang 13.0.0 (clang-1300.0.29.30)]"
  },
  "orig_nbformat": 4,
  "vscode": {
   "interpreter": {
    "hash": "aee8b7b246df8f9039afb4144a1f6fd8d2ca17a180786b69acc140d282b71a49"
   }
  }
 },
 "nbformat": 4,
 "nbformat_minor": 2
}
